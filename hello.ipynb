{
 "cells": [
  {
   "cell_type": "code",
   "execution_count": null,
   "metadata": {
    "collapsed": true
   },
   "outputs": [],
   "source": [
    "import SchemDraw as schem\n",
    "import SchemDraw.elements as e\n",
    "d = schem.Drawing()\n",
    "d.add( e.RES, label='100K$\\Omega$' )\n",
    "d.add( e.CAP, d='down', botlabel='0.1$\\mu$F' )\n",
    "d.draw()\n",
    "d.save( 'schematic.eps' )"
   ]
  }
 ],
 "metadata": {
  "kernelspec": {
   "display_name": "Python 2",
   "language": "python",
   "name": "python2"
  },
  "language_info": {
   "codemirror_mode": {
    "name": "ipython",
    "version": 2.0
   },
   "file_extension": ".py",
   "mimetype": "text/x-python",
   "name": "python",
   "nbconvert_exporter": "python",
   "pygments_lexer": "ipython2",
   "version": "2.7.6"
  }
 },
 "nbformat": 4,
 "nbformat_minor": 0
}